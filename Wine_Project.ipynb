{
  "nbformat": 4,
  "nbformat_minor": 0,
  "metadata": {
    "colab": {
      "name": "Wine-Project.ipynb",
      "provenance": [],
      "collapsed_sections": []
    },
    "kernelspec": {
      "name": "python3",
      "display_name": "Python 3"
    },
    "accelerator": "GPU"
  },
  "cells": [
    {
      "cell_type": "markdown",
      "metadata": {
        "id": "n25fGbyUDOYv",
        "colab_type": "text"
      },
      "source": [
        "### Data Edit "
      ]
    },
    {
      "cell_type": "code",
      "metadata": {
        "id": "UrjAkhcQqhvh",
        "colab_type": "code",
        "colab": {}
      },
      "source": [
        "import pandas as pd\n",
        "\n",
        "red=pd.read_csv(\"./data/winequality-red.csv\")\n",
        "red=pd.DataFrame(red)\n",
        "\n",
        "white=pd.read_csv(\"./data/winequality-white.csv\", sep=\";\")\n",
        "white=pd.DataFrame(white)\n",
        "\n",
        "red['type']=0\n",
        "white[\"type\"]=1\n",
        "\n",
        "wines = red.append(white, ignore_index = True)"
      ],
      "execution_count": 25,
      "outputs": []
    },
    {
      "cell_type": "code",
      "metadata": {
        "id": "Iga-ujS7rxsE",
        "colab_type": "code",
        "colab": {}
      },
      "source": [
        "X=wines.iloc[:, 0:12]\n",
        "Y=wines.iloc[:,12:13]"
      ],
      "execution_count": 26,
      "outputs": []
    },
    {
      "cell_type": "markdown",
      "metadata": {
        "id": "CTF3x1noDcr4",
        "colab_type": "text"
      },
      "source": [
        "### Train - Test Split"
      ]
    },
    {
      "cell_type": "code",
      "metadata": {
        "id": "YGUoZUX20F_h",
        "colab_type": "code",
        "colab": {}
      },
      "source": [
        "from sklearn.model_selection import train_test_split \n",
        "\n",
        "x_train, x_test, y_train, y_test= train_test_split(X, Y, test_size=0.33, random_state=42)"
      ],
      "execution_count": 27,
      "outputs": []
    },
    {
      "cell_type": "markdown",
      "metadata": {
        "id": "a4jbwi9ZDikv",
        "colab_type": "text"
      },
      "source": [
        "### Create Model"
      ]
    },
    {
      "cell_type": "code",
      "metadata": {
        "id": "INIY3Y3o0Vv5",
        "colab_type": "code",
        "colab": {}
      },
      "source": [
        "from keras.models import Sequential\n",
        "from keras.layers import Dense, Activation\n",
        "\n",
        "model=Sequential()\n",
        "model.add(Dense(64, input_shape=(12,)))\n",
        "model.add(Activation('relu'))\n",
        "model.add(Dense(64))\n",
        "model.add(Activation('relu'))\n",
        "model.add(Dense(1))\n",
        "model.add(Activation('sigmoid'))\n"
      ],
      "execution_count": 28,
      "outputs": []
    },
    {
      "cell_type": "code",
      "metadata": {
        "id": "rPcRIkd-0ets",
        "colab_type": "code",
        "colab": {
          "base_uri": "https://localhost:8080/",
          "height": 357
        },
        "outputId": "fe08540e-7da5-4019-efa9-bb406b29ac58"
      },
      "source": [
        "model.summary()"
      ],
      "execution_count": 29,
      "outputs": [
        {
          "output_type": "stream",
          "text": [
            "Model: \"sequential_2\"\n",
            "_________________________________________________________________\n",
            "Layer (type)                 Output Shape              Param #   \n",
            "=================================================================\n",
            "dense_6 (Dense)              (None, 64)                832       \n",
            "_________________________________________________________________\n",
            "activation_6 (Activation)    (None, 64)                0         \n",
            "_________________________________________________________________\n",
            "dense_7 (Dense)              (None, 64)                4160      \n",
            "_________________________________________________________________\n",
            "activation_7 (Activation)    (None, 64)                0         \n",
            "_________________________________________________________________\n",
            "dense_8 (Dense)              (None, 1)                 65        \n",
            "_________________________________________________________________\n",
            "activation_8 (Activation)    (None, 1)                 0         \n",
            "=================================================================\n",
            "Total params: 5,057\n",
            "Trainable params: 5,057\n",
            "Non-trainable params: 0\n",
            "_________________________________________________________________\n"
          ],
          "name": "stdout"
        }
      ]
    },
    {
      "cell_type": "markdown",
      "metadata": {
        "id": "nRcFvIrVDm6M",
        "colab_type": "text"
      },
      "source": [
        "### Model Compile"
      ]
    },
    {
      "cell_type": "code",
      "metadata": {
        "id": "eVLTB8R52XfH",
        "colab_type": "code",
        "colab": {}
      },
      "source": [
        "model.compile(optimizer='adam', loss='binary_crossentropy', metrics=[\"accuracy\"])"
      ],
      "execution_count": 30,
      "outputs": []
    },
    {
      "cell_type": "markdown",
      "metadata": {
        "id": "7ZdxAWGJDpli",
        "colab_type": "text"
      },
      "source": [
        "### Model Fit"
      ]
    },
    {
      "cell_type": "code",
      "metadata": {
        "id": "IfXGd6d-2umq",
        "colab_type": "code",
        "colab": {
          "base_uri": "https://localhost:8080/",
          "height": 357
        },
        "outputId": "84f585c6-26f4-4cda-a9c4-92d64e04894b"
      },
      "source": [
        "epochs=10\n",
        "batch_size=64\n",
        "hist=model.fit(x_train, y_train, \n",
        "               epochs=epochs, \n",
        "               batch_size=batch_size,\n",
        "               verbose=1)"
      ],
      "execution_count": 31,
      "outputs": [
        {
          "output_type": "stream",
          "text": [
            "Epoch 1/10\n",
            "68/68 [==============================] - 0s 2ms/step - loss: 0.9379 - accuracy: 0.8318\n",
            "Epoch 2/10\n",
            "68/68 [==============================] - 0s 2ms/step - loss: 0.2178 - accuracy: 0.9292\n",
            "Epoch 3/10\n",
            "68/68 [==============================] - 0s 2ms/step - loss: 0.1905 - accuracy: 0.9364\n",
            "Epoch 4/10\n",
            "68/68 [==============================] - 0s 2ms/step - loss: 0.1590 - accuracy: 0.9460\n",
            "Epoch 5/10\n",
            "68/68 [==============================] - 0s 2ms/step - loss: 0.1410 - accuracy: 0.9515\n",
            "Epoch 6/10\n",
            "68/68 [==============================] - 0s 2ms/step - loss: 0.1273 - accuracy: 0.9554\n",
            "Epoch 7/10\n",
            "68/68 [==============================] - 0s 2ms/step - loss: 0.1216 - accuracy: 0.9570\n",
            "Epoch 8/10\n",
            "68/68 [==============================] - 0s 2ms/step - loss: 0.1192 - accuracy: 0.9593\n",
            "Epoch 9/10\n",
            "68/68 [==============================] - 0s 2ms/step - loss: 0.1076 - accuracy: 0.9637\n",
            "Epoch 10/10\n",
            "68/68 [==============================] - 0s 2ms/step - loss: 0.1067 - accuracy: 0.9623\n"
          ],
          "name": "stdout"
        }
      ]
    },
    {
      "cell_type": "markdown",
      "metadata": {
        "id": "-EBmidn2DxiR",
        "colab_type": "text"
      },
      "source": [
        "### Model Predict"
      ]
    },
    {
      "cell_type": "code",
      "metadata": {
        "id": "JgXTI39o3K8t",
        "colab_type": "code",
        "colab": {}
      },
      "source": [
        "import numpy as np\n",
        "\n",
        "fixed_acidity=float(input(\"fixed acidity: \"))\n",
        "volatile_acidity=float(input(\"volatile acidity: \"))\n",
        "citric_acid=float(input(\"citric acid: \"))\n",
        "residual_sugar=float(input(\"residual sugar: \"))\n",
        "chlorides=float(input(\"chlorides: \"))\n",
        "free_sulfur_dioxide=float(input(\"free sulfur dioxide: \"))\n",
        "total_sulfur_dioxide=float(input(\"total sulfur dioxide: \"))\n",
        "density=float(input(\"density: \"))\n",
        "pH=float(input(\"pH: \"))\n",
        "sulphates=float(input(\"sulphates: \"))\n",
        "alcohol=float(input(\"alcohol: \"))\n",
        "quality=float(input(\"quality: \"))\n",
        "\n",
        "\n",
        "prediction=np.array([fixed_acidity,volatile_acidity,citric_acid,residual_sugar,chlorides,free_sulfur_dioxide,total_sulfur_dioxide, density, pH, sulphates, alcohol,quality]).reshape(1,12)\n",
        "result=model.predict_classes(prediction)\n",
        "\n",
        "if result==0:\n",
        "  print(\"Red Wine\")\n",
        "elif result==1:\n",
        "  print(\"White Wine\")"
      ],
      "execution_count": null,
      "outputs": []
    },
    {
      "cell_type": "code",
      "metadata": {
        "id": "jJg41gdKCLvE",
        "colab_type": "code",
        "colab": {
          "base_uri": "https://localhost:8080/",
          "height": 85
        },
        "outputId": "52a1facc-ba78-4bb3-9008-21a53e1e39d9"
      },
      "source": [
        "score = model.evaluate(x_test, y_test,\n",
        "                       batch_size=batch_size, verbose=1)\n",
        "print(\"\\nTest score:\", score[0])\n",
        "print('Test accuracy:', score[1])"
      ],
      "execution_count": 39,
      "outputs": [
        {
          "output_type": "stream",
          "text": [
            "34/34 [==============================] - 0s 1ms/step - loss: 0.1525 - accuracy: 0.9483\n",
            "\n",
            "Test score: 0.15250541269779205\n",
            "Test accuracy: 0.9482517242431641\n"
          ],
          "name": "stdout"
        }
      ]
    },
    {
      "cell_type": "markdown",
      "metadata": {
        "id": "oi9MWSBZD3-f",
        "colab_type": "text"
      },
      "source": [
        "### Model Visualization"
      ]
    },
    {
      "cell_type": "code",
      "metadata": {
        "id": "xFy98AyPA4Cj",
        "colab_type": "code",
        "colab": {
          "base_uri": "https://localhost:8080/",
          "height": 573
        },
        "outputId": "18964862-aca0-4f52-bfd4-1b711d06b40d"
      },
      "source": [
        "import matplotlib.pyplot as plt\n",
        "\n",
        "plt.plot(hist.history['accuracy'])\n",
        "plt.title('model accuracy')\n",
        "plt.ylabel('accuracy')\n",
        "plt.xlabel('epoch')\n",
        "plt.legend(['train', 'test'], loc='upper left')\n",
        "plt.savefig('wine_accuracy.png')\n",
        "plt.show()\n",
        " \n",
        "plt.plot(hist.history['loss'])\n",
        "plt.plot(hist.history['loss'])\n",
        "plt.title('model loss')\n",
        "plt.ylabel('loss')\n",
        "plt.xlabel('epoch')\n",
        "plt.legend(['train', 'test'], loc='upper left')\n",
        "plt.savefig('wine_loss.png')\n",
        "plt.show()"
      ],
      "execution_count": 40,
      "outputs": [
        {
          "output_type": "display_data",
          "data": {
            "image/png": "[encoded data removed]",
            "text/plain": [
              "<Figure size 432x288 with 1 Axes>"
            ]
          },
          "metadata": {
            "tags": [],
            "needs_background": "light"
          }
        },
        {
          "output_type": "display_data",
          "data": {
            "image/png": "[encoded data removed]",
            "text/plain": [
              "<Figure size 432x288 with 1 Axes>"
            ]
          },
          "metadata": {
            "tags": [],
            "needs_background": "light"
          }
        }
      ]
    },
    {
      "cell_type": "code",
      "metadata": {
        "id": "9AqmHdi5B1dI",
        "colab_type": "code",
        "colab": {}
      },
      "source": [
        ""
      ],
      "execution_count": null,
      "outputs": []
    }
  ]
}